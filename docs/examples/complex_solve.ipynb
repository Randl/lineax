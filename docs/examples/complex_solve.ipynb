{
 "cells": [
  {
   "cell_type": "markdown",
   "id": "8d41e1dd-93da-4e81-bd4a-33e5df8915f1",
   "metadata": {},
   "source": [
    "# Complex solve\n",
    "\n",
    "We can also solve a system with complex entries. Here we consider the classical case for which the full matrix $A$ is square, well-posed and materialised in memory."
   ]
  },
  {
   "cell_type": "code",
   "execution_count": 1,
   "id": "cb3a7781-2358-40c4-82f3-e908bddeb578",
   "metadata": {
    "tags": [],
    "ExecuteTime": {
     "end_time": "2024-04-02T05:29:04.909894Z",
     "start_time": "2024-04-02T05:29:04.103141Z"
    }
   },
   "outputs": [
    {
     "name": "stdout",
     "output_type": "stream",
     "text": [
      "A=\n",
      "[[-1.8459436 -0.2744466j   0.02393756-0.03172905j  0.76815367-1.4444253j ]\n",
      " [-1.0467293 +0.05608991j  1.0891742 -0.03264743j  0.7513123 +0.56285536j]\n",
      " [ 0.38307396-1.0190808j   0.01203694-1.1971304j   0.19252291-0.26424018j]]\n",
      "b=[0.23162952+0.3614433j  0.05800135+1.6094692j  0.8979094 +0.16941352j]\n",
      "x=[-0.07652722-0.34397143j -0.22629777+1.0359733j   0.22135164-0.00880566j]\n"
     ]
    }
   ],
   "source": [
    "import jax.numpy as jnp\n",
    "import jax.random as jr\n",
    "import lineax as lx\n",
    "\n",
    "\n",
    "matrix = jr.normal(jr.PRNGKey(0), (3, 3), dtype=jnp.complex64)\n",
    "vector = jr.normal(jr.PRNGKey(1), (3,), dtype=jnp.complex64)\n",
    "operator = lx.MatrixLinearOperator(matrix)\n",
    "solution = lx.linear_solve(operator, vector)\n",
    "print(f\"A=\\n{matrix}\\nb={vector}\\nx={solution.value}\")"
   ]
  }
 ],
 "metadata": {
  "kernelspec": {
   "display_name": "Python 3 (ipykernel)",
   "language": "python",
   "name": "python3"
  },
  "language_info": {
   "codemirror_mode": {
    "name": "ipython",
    "version": 3
   },
   "file_extension": ".py",
   "mimetype": "text/x-python",
   "name": "python",
   "nbconvert_exporter": "python",
   "pygments_lexer": "ipython3",
   "version": "3.9.16"
  }
 },
 "nbformat": 4,
 "nbformat_minor": 5
}
